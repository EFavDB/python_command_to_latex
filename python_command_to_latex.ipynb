{
 "metadata": {
  "name": "",
  "signature": "sha256:bfd69cad7779bf8606ccbaa9f06fdec0dadf4899dd243aefb8281b75329f7ebb"
 },
 "nbformat": 3,
 "nbformat_minor": 0,
 "worksheets": [
  {
   "cells": [
    {
     "cell_type": "code",
     "collapsed": false,
     "input": [
      "# 11/16/2016, JSL\n",
      "\n",
      "from IPython.core.display import HTML\n",
      "\n",
      "\n",
      "def parse_simple_eqn(q):\n",
      "    \"\"\" Return TeX equivalent of a command \n",
      "    without parentheses. \"\"\"\n",
      "    # Define replacement rules.\n",
      "    simple_replacements = [[' ', ''],\n",
      "                           ['**', '^'], ['*', ' \\\\cdot '],\n",
      "                           ['math.', ''], ['np.', ''],\n",
      "                           ['pi', '\\\\pi'] , ['tan', '\\\\tan'],\n",
      "                           ['cos', '\\\\cos'], ['sin', '\\\\sin'],\n",
      "                           ['sec', '\\\\sec'], ['csc', '\\\\csc']]\n",
      "    complex_replacements = [['^', '{{{i1}}}^{{{i2}}}'],\n",
      "                           ['_', '{{{i1}}}_{{{i2}}}'],\n",
      "                           ['/', '\\\\frac{{{i1}}}{{{i2}}}'],\n",
      "                           ['sqrt','\\\\sqrt{{{i2}}}']]\n",
      "    # Carry out simple replacements\n",
      "    for pair in simple_replacements:\n",
      "        q = q.replace(pair[0], pair[1])\n",
      "    # Now complex replacements\n",
      "    for item in ['*', '/', '+', '-', '^', '_', ',', 'sqrt']:\n",
      "        q = q.replace(item, ' ' + item + ' ')\n",
      "    q_split = q.split()\n",
      "    for index, item in enumerate(q_split):\n",
      "        for pair in complex_replacements:\n",
      "            if item == pair[0]:\n",
      "                if item == 'sqrt':\n",
      "                    match_str = \" \".join(q_split[index:index+2])\n",
      "                else:\n",
      "                    match_str = \" \".join(q_split[index-1:index+2])\n",
      "                q = q.replace(match_str, pair[1].format(\n",
      "                    i1=q_split[index-1], i2=q_split[index+1]))\n",
      "    return q\n",
      "\n",
      "def command_to_latex(q, index=0):\n",
      "    \"\"\" Recursively eliminate parentheses. Once\n",
      "    removed, apply parse_simple_eqn.        \"\"\"\n",
      "    open_index, close_index = -1, -1\n",
      "    for q_index, i in enumerate(q):\n",
      "        if i == '(':\n",
      "            open_index = q_index\n",
      "        elif i == ')':\n",
      "            close_index = q_index\n",
      "            break\n",
      "    if open_index != -1:\n",
      "        o = q[:open_index] + '@' + str(index) + q[close_index + 1:]\n",
      "        m = q[open_index + 1:close_index]\n",
      "        o_tex  = command_to_latex(o, index + 1)\n",
      "        m_tex  = command_to_latex(m, index + 1)\n",
      "        # Clean up redundant parentheses at recombination\n",
      "        r_index = o_tex.find('@' + str(index))\n",
      "        if o_tex[r_index - 1] == '{':\n",
      "            return o_tex.replace('@'+str(index), m_tex)\n",
      "        else:\n",
      "            return o_tex.replace('@'+str(index), \n",
      "                                 ' \\\\left (' + m_tex + ' \\\\right )')\n",
      "    else:\n",
      "        return parse_simple_eqn(q)\n",
      "\n",
      "def pretty_print_latex(q):\n",
      "    q_tex = command_to_latex(q)\n",
      "    print q_tex\n",
      "    return HTML(\"<h1>$\" + q_tex + \"$</h1>\" )\n",
      "   \n",
      "s = 'f(x_123, 2) / (2 + 3/(1 + z(np.sqrt((x + 3)/3)))) + np.sqrt(2 ** w) * np.tanh(2 * math.pi* x)'\n",
      "pretty_print_latex(s)"
     ],
     "language": "python",
     "metadata": {},
     "outputs": [
      {
       "output_type": "stream",
       "stream": "stdout",
       "text": [
        "\\frac{f \\left ({x}_{123} , 2 \\right )}{2 + \\frac{3}{1 + z \\left ( \\sqrt{\\frac{x + 3}{3}} \\right )}} +  \\sqrt{{2}^{w}} \\cdot \\tanh \\left (2 \\cdot \\pi \\cdot x \\right )\n"
       ]
      },
      {
       "html": [
        "<h1>$\\frac{f \\left ({x}_{123} , 2 \\right )}{2 + \\frac{3}{1 + z \\left ( \\sqrt{\\frac{x + 3}{3}} \\right )}} +  \\sqrt{{2}^{w}} \\cdot \\tanh \\left (2 \\cdot \\pi \\cdot x \\right )$</h1>"
       ],
       "metadata": {},
       "output_type": "pyout",
       "prompt_number": 1,
       "text": [
        "<IPython.core.display.HTML at 0x10c2d0e90>"
       ]
      }
     ],
     "prompt_number": 1
    },
    {
     "cell_type": "code",
     "collapsed": false,
     "input": [
      "import sympy\n",
      "\n",
      "sympy.latex(eval(s)) "
     ],
     "language": "python",
     "metadata": {},
     "outputs": [
      {
       "ename": "NameError",
       "evalue": "name 'f' is not defined",
       "output_type": "pyerr",
       "traceback": [
        "\u001b[0;31m---------------------------------------------------------------------------\u001b[0m\n\u001b[0;31mNameError\u001b[0m                                 Traceback (most recent call last)",
        "\u001b[0;32m<ipython-input-2-884ac1ad7f5d>\u001b[0m in \u001b[0;36m<module>\u001b[0;34m()\u001b[0m\n\u001b[1;32m      1\u001b[0m \u001b[0;32mimport\u001b[0m \u001b[0msympy\u001b[0m\u001b[0;34m\u001b[0m\u001b[0m\n\u001b[1;32m      2\u001b[0m \u001b[0;34m\u001b[0m\u001b[0m\n\u001b[0;32m----> 3\u001b[0;31m \u001b[0msympy\u001b[0m\u001b[0;34m.\u001b[0m\u001b[0mlatex\u001b[0m\u001b[0;34m(\u001b[0m\u001b[0meval\u001b[0m\u001b[0;34m(\u001b[0m\u001b[0ms\u001b[0m\u001b[0;34m)\u001b[0m\u001b[0;34m)\u001b[0m\u001b[0;34m\u001b[0m\u001b[0m\n\u001b[0m",
        "\u001b[0;32m<string>\u001b[0m in \u001b[0;36m<module>\u001b[0;34m()\u001b[0m\n",
        "\u001b[0;31mNameError\u001b[0m: name 'f' is not defined"
       ]
      }
     ],
     "prompt_number": 2
    },
    {
     "cell_type": "code",
     "collapsed": false,
     "input": [],
     "language": "python",
     "metadata": {},
     "outputs": []
    }
   ],
   "metadata": {}
  }
 ]
}